{
  "nbformat": 4,
  "nbformat_minor": 0,
  "metadata": {
    "colab": {
      "provenance": []
    },
    "kernelspec": {
      "name": "python3",
      "display_name": "Python 3"
    },
    "language_info": {
      "name": "python"
    }
  },
  "cells": [
    {
      "cell_type": "code",
      "source": [
        "from google.colab import drive\n",
        "drive.mount('/content/drive')"
      ],
      "metadata": {
        "colab": {
          "base_uri": "https://localhost:8080/"
        },
        "id": "v2nGFhMhkP9g",
        "outputId": "e5fae8a6-341c-4b98-db98-d13ac39cfa35"
      },
      "execution_count": null,
      "outputs": [
        {
          "output_type": "stream",
          "name": "stdout",
          "text": [
            "Mounted at /content/drive\n"
          ]
        }
      ]
    },
    {
      "cell_type": "code",
      "execution_count": null,
      "metadata": {
        "colab": {
          "base_uri": "https://localhost:8080/"
        },
        "id": "_-Suus15kKox",
        "outputId": "04ef4c75-5491-4438-8741-fc1219f0be14"
      },
      "outputs": [
        {
          "output_type": "stream",
          "name": "stdout",
          "text": [
            "SSIM for generated_image_epoch_200.png: 0.3632409209712946\n",
            "SSIM for generated_image_epoch_150.png: 0.4965318477194709\n",
            "SSIM for generated_image_epoch_100.png: 0.5633179606375447\n",
            "SSIM for generated_image_epoch_50.png: 0.015433220672131194\n",
            "SSIM for generated_image_epoch_0.png: 0.011596138852184811\n",
            "SSIM for generated_image_epoch_350.png: 0.374207406872292\n",
            "SSIM for generated_image_epoch_300.png: 0.4781826946454059\n",
            "SSIM for generated_image_epoch_250.png: 0.00013322362775950708\n",
            "SSIM for generated_image_epoch_550.png: 0.09747463118418485\n",
            "SSIM for generated_image_epoch_500.png: 0.49399047532750184\n",
            "SSIM for generated_image_epoch_450.png: 0.5637286775175292\n",
            "SSIM for generated_image_epoch_400.png: 0.47399229333688847\n",
            "SSIM for generated_image_epoch_750.png: 0.5004011750251264\n",
            "SSIM for generated_image_epoch_700.png: 0.15256730323467677\n",
            "SSIM for generated_image_epoch_650.png: 0.14465154361152016\n",
            "SSIM for generated_image_epoch_600.png: 0.12949469694431773\n",
            "SSIM for generated_image_epoch_900.png: 0.5850919930553788\n",
            "SSIM for generated_image_epoch_850.png: 0.4743963645093144\n",
            "SSIM for generated_image_epoch_800.png: 0.4989998433863905\n",
            "SSIM for generated_image_epoch_950.png: 0.1254656255164936\n"
          ]
        }
      ],
      "source": [
        "import cv2\n",
        "import os\n",
        "from skimage.metrics import structural_similarity as ssim\n",
        "\n",
        "# Path to the directory with test images and the reference image\n",
        "test_images_dir = '/content/drive/MyDrive/cgan/new'\n",
        "reference_image_path = '/content/drive/MyDrive/LSTM_TEST/HANGZHOU/Copy of Hangzhou_2013.jpg'\n",
        "\n",
        "# Load the reference image, convert to grayscale and apply binary thresholding\n",
        "reference_image = cv2.imread(reference_image_path, cv2.IMREAD_GRAYSCALE)\n",
        "_, reference_thresh = cv2.threshold(reference_image, 127, 255, cv2.THRESH_BINARY)\n",
        "\n",
        "# List to store SSIM values\n",
        "ssim_values = []\n",
        "\n",
        "# Iterate through each image in the directory\n",
        "for image_name in os.listdir(test_images_dir):\n",
        "    image_path = os.path.join(test_images_dir, image_name)\n",
        "    image = cv2.imread(image_path, cv2.IMREAD_GRAYSCALE)\n",
        "\n",
        "    # Resize the image to match the reference image dimensions\n",
        "    image = cv2.resize(image, (reference_image.shape[1], reference_image.shape[0]))\n",
        "\n",
        "    # Apply binary thresholding\n",
        "    _, image_thresh = cv2.threshold(image, 127, 255, cv2.THRESH_BINARY)\n",
        "\n",
        "    # Compute SSIM with the reference image\n",
        "    similarity_index, _ = ssim(image_thresh, reference_thresh, full=True)\n",
        "    ssim_values.append(similarity_index)\n",
        "    print(f\"SSIM for {image_name}: {similarity_index}\")\n"
      ]
    },
    {
      "cell_type": "code",
      "source": [
        "import numpy as np\n",
        "import os\n",
        "import cv2\n",
        "from scipy.linalg import sqrtm\n",
        "from keras.applications.inception_v3 import InceptionV3, preprocess_input\n",
        "\n",
        "# Load the InceptionV3 model\n",
        "model = InceptionV3(include_top=False, pooling='avg', input_shape=(299, 299, 3))\n",
        "\n",
        "def calculate_fid(model, images1, images2):\n",
        "    # Calculate activations\n",
        "    act1 = model.predict(images1)\n",
        "    act2 = model.predict(images2)\n",
        "\n",
        "    # Calculate mean and covariance statistics\n",
        "    mu1, sigma1 = act1.mean(axis=0), np.cov(act1, rowvar=False)\n",
        "    mu2, sigma2 = act2.mean(axis=0), np.cov(act2, rowvar=False)\n",
        "\n",
        "    # Compute the sum squared difference between means\n",
        "    ssdiff = np.sum((mu1 - mu2)**2.0)\n",
        "\n",
        "    # Compute sqrt of product between covariances\n",
        "    covmean = sqrtm(sigma1.dot(sigma2))\n",
        "\n",
        "    # Check for imaginary numbers\n",
        "    if np.iscomplexobj(covmean):\n",
        "        covmean = covmean.real\n",
        "\n",
        "    # Compute FID\n",
        "    fid = ssdiff + np.trace(sigma1 + sigma2 - 2.0 * covmean)\n",
        "    return fid\n",
        "\n",
        "# Load images\n",
        "test_images_dir = '/content/drive/MyDrive/cgan/new'\n",
        "reference_image_path = '/content/drive/MyDrive/LSTM_TEST/HANGZHOU/Copy of Hangzhou_2013.jpg'\n",
        "reference_image = cv2.imread(reference_image_path)\n",
        "reference_image = cv2.cvtColor(reference_image, cv2.COLOR_BGR2RGB)\n",
        "reference_image = cv2.resize(reference_image, (299, 299))\n",
        "reference_image = preprocess_input(reference_image)\n",
        "\n",
        "images = []\n",
        "for image_name in os.listdir(test_images_dir):\n",
        "    image_path = os.path.join(test_images_dir, image_name)\n",
        "    image = cv2.imread(image_path)\n",
        "    image = cv2.cvtColor(image, cv2.COLOR_BGR2RGB)\n",
        "    image = cv2.resize(image, (299, 299))\n",
        "    images.append(image)\n",
        "\n",
        "images = np.array(images)\n",
        "images = preprocess_input(images)\n",
        "\n",
        "# Compute FID\n",
        "fid_value = calculate_fid(model, images, np.expand_dims(reference_image, axis=0))\n",
        "print(f\"FID: {fid_value}\")\n"
      ],
      "metadata": {
        "colab": {
          "base_uri": "https://localhost:8080/"
        },
        "id": "OuzC-_UJkNw8",
        "outputId": "ce42bac8-aad4-42e0-9b99-5364dd43c2d5"
      },
      "execution_count": null,
      "outputs": [
        {
          "output_type": "stream",
          "name": "stderr",
          "text": [
            "WARNING:tensorflow:5 out of the last 9 calls to <function Model.make_predict_function.<locals>.predict_function at 0x7e6a04535480> triggered tf.function retracing. Tracing is expensive and the excessive number of tracings could be due to (1) creating @tf.function repeatedly in a loop, (2) passing tensors with different shapes, (3) passing Python objects instead of tensors. For (1), please define your @tf.function outside of the loop. For (2), @tf.function has reduce_retracing=True option that can avoid unnecessary retracing. For (3), please refer to https://www.tensorflow.org/guide/function#controlling_retracing and https://www.tensorflow.org/api_docs/python/tf/function for  more details.\n"
          ]
        },
        {
          "output_type": "stream",
          "name": "stdout",
          "text": [
            "1/1 [==============================] - 8s 8s/step\n",
            "1/1 [==============================] - 0s 261ms/step\n",
            "FID: 509.34732399086283\n"
          ]
        }
      ]
    },
    {
      "cell_type": "code",
      "source": [
        "import cv2\n",
        "import os\n",
        "from skimage.metrics import structural_similarity as ssim\n",
        "\n",
        "# Path to the directory with test images and the reference image\n",
        "test_images_dir = '/content/drive/MyDrive/cgan/lstm'\n",
        "reference_image_path = '/content/drive/MyDrive/LSTM_TEST/HANGZHOU/Copy of Hangzhou_2013.jpg'\n",
        "\n",
        "# Load the reference image, convert to grayscale and apply binary thresholding\n",
        "reference_image = cv2.imread(reference_image_path, cv2.IMREAD_GRAYSCALE)\n",
        "_, reference_thresh = cv2.threshold(reference_image, 127, 255, cv2.THRESH_BINARY)\n",
        "\n",
        "# List to store SSIM values\n",
        "ssim_values = []\n",
        "\n",
        "# Iterate through each image in the directory\n",
        "for image_name in os.listdir(test_images_dir):\n",
        "    image_path = os.path.join(test_images_dir, image_name)\n",
        "    image = cv2.imread(image_path, cv2.IMREAD_GRAYSCALE)\n",
        "\n",
        "    # Resize the image to match the reference image dimensions\n",
        "    image = cv2.resize(image, (reference_image.shape[1], reference_image.shape[0]))\n",
        "\n",
        "    # Apply binary thresholding\n",
        "    _, image_thresh = cv2.threshold(image, 127, 255, cv2.THRESH_BINARY)\n",
        "\n",
        "    # Compute SSIM with the reference image\n",
        "    similarity_index, _ = ssim(image_thresh, reference_thresh, full=True)\n",
        "    ssim_values.append(similarity_index)\n",
        "    print(f\"SSIM for {image_name}: {similarity_index}\")"
      ],
      "metadata": {
        "colab": {
          "base_uri": "https://localhost:8080/"
        },
        "id": "rQoUxAHD3dJ9",
        "outputId": "b23c427b-96a9-4b72-d3bf-bca50a78ca8a"
      },
      "execution_count": 15,
      "outputs": [
        {
          "output_type": "stream",
          "name": "stdout",
          "text": [
            "SSIM for predicted_frame_3.png: 0.8777400399478148\n",
            "SSIM for predicted_frame_2.png: 0.8872515562425423\n",
            "SSIM for predicted_frame_1.png: 0.909496268016525\n"
          ]
        }
      ]
    }
  ]
}