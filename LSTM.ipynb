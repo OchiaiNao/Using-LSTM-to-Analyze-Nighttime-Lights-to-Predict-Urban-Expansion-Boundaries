{
  "nbformat": 4,
  "nbformat_minor": 0,
  "metadata": {
    "colab": {
      "provenance": [],
      "gpuType": "V100"
    },
    "kernelspec": {
      "name": "python3",
      "display_name": "Python 3"
    },
    "language_info": {
      "name": "python"
    },
    "accelerator": "GPU"
  },
  "cells": [
    {
      "cell_type": "code",
      "execution_count": 53,
      "metadata": {
        "colab": {
          "base_uri": "https://localhost:8080/"
        },
        "id": "hUcWQfdYhmib",
        "outputId": "243725ad-d26d-469b-feda-ea5d7c0ca77c"
      },
      "outputs": [
        {
          "output_type": "stream",
          "name": "stdout",
          "text": [
            "Drive already mounted at /content/drive; to attempt to forcibly remount, call drive.mount(\"/content/drive\", force_remount=True).\n"
          ]
        }
      ],
      "source": [
        "from google.colab import drive\n",
        "drive.mount('/content/drive')"
      ]
    },
    {
      "cell_type": "code",
      "source": [
        "from keras.models import Sequential\n",
        "from keras.layers import ConvLSTM2D, BatchNormalization, Conv3D"
      ],
      "metadata": {
        "id": "JgHS64gKCyoZ"
      },
      "execution_count": 54,
      "outputs": []
    },
    {
      "cell_type": "code",
      "source": [
        "from PIL import Image\n",
        "import os\n",
        "\n",
        "# Directory paths\n",
        "input_dir = '/content/drive/MyDrive/LSTM_TEST/DATA/HAERBING'\n",
        "output_dir = '/content/drive/MyDrive/LSTM_MODEL/HAERBING'\n",
        "num_files = len([f for f in os.listdir(input_dir) if os.path.isfile(os.path.join(input_dir, f))])\n",
        "\n",
        "print(num_files)"
      ],
      "metadata": {
        "colab": {
          "base_uri": "https://localhost:8080/"
        },
        "id": "RWdW3XoYEXOy",
        "outputId": "f5c6d1b2-a29e-416a-a4f3-3f3a8c119c0e"
      },
      "execution_count": 55,
      "outputs": [
        {
          "output_type": "stream",
          "name": "stdout",
          "text": [
            "21\n"
          ]
        }
      ]
    },
    {
      "cell_type": "code",
      "source": [
        "for filename in os.listdir(input_dir):\n",
        "    if filename.endswith('.tif'):\n",
        "        img = Image.open(os.path.join(input_dir, filename))\n",
        "        img_gray = img.convert(\"L\")\n",
        "        base_filename = os.path.splitext(filename)[0]  # remove .tif from filename\n",
        "        img_gray.save(os.path.join(output_dir, base_filename + '.jpg'), 'JPEG')"
      ],
      "metadata": {
        "id": "vVtie-R8E4FR"
      },
      "execution_count": 56,
      "outputs": []
    },
    {
      "cell_type": "code",
      "source": [
        "from PIL import Image\n",
        "import numpy as np\n",
        "import os\n",
        "\n",
        "def load_image_sequences(folder, sequence_length):\n",
        "\n",
        "    images = []\n",
        "    filenames = sorted(os.listdir(folder))\n",
        "    if not filenames:\n",
        "        return None  # Return None if the folder is empty\n",
        "\n",
        "    # Open the first image and get its size\n",
        "    first_image = Image.open(os.path.join(folder, filenames[0]))\n",
        "    target_size = (first_image.size[0]//2, first_image.size[1]//2)\n",
        "    # target_size = first_image.size\n",
        "\n",
        "    for filename in filenames:\n",
        "        img = Image.open(os.path.join(folder, filename)).resize(target_size)\n",
        "        images.append(np.array(img))\n",
        "\n",
        "    # Convert the list of images into a numpy array\n",
        "    images = np.array(images)\n",
        "\n",
        "    # Normalize pixel values to [0, 1]\n",
        "    images = images.astype('float32') / 255.0\n",
        "\n",
        "    # Reshape into 5D tensor for ConvLSTM\n",
        "    sequences = np.array([images[i:i+sequence_length] for i in range(images.shape[0] - sequence_length)])\n",
        "\n",
        "    return sequences[..., np.newaxis]  # add a dimension for grayscale channel\n",
        "\n",
        "\n",
        "folder = \"/content/drive/MyDrive/LSTM_MODEL/HAERBING\"\n",
        "sequences = load_image_sequences(folder, 4)\n",
        "print(sequences.shape)"
      ],
      "metadata": {
        "colab": {
          "base_uri": "https://localhost:8080/"
        },
        "id": "Oi_zwnnVDWLj",
        "outputId": "ab4e4291-059a-4b2c-a877-3f08a31610bf"
      },
      "execution_count": 62,
      "outputs": [
        {
          "output_type": "stream",
          "name": "stdout",
          "text": [
            "(17, 4, 156, 274, 1)\n"
          ]
        }
      ]
    },
    {
      "cell_type": "code",
      "source": [
        "# Dimensions of your input images (Height, Width, Channels)\n",
        "input_shape = (3, 156, 274, 1)  # 3 frames of grayscale images\n",
        "\n",
        "# Define the ConvLSTM model\n",
        "model = Sequential()\n",
        "\n",
        "# Add a ConvLSTM layer\n",
        "model.add(ConvLSTM2D(filters=96, kernel_size=(3, 3), input_shape=input_shape, padding='same', return_sequences=True))\n",
        "\n",
        "# Add a batch normalization layer\n",
        "model.add(BatchNormalization())\n",
        "\n",
        "# Add another ConvLSTM layer\n",
        "model.add(ConvLSTM2D(filters=96, kernel_size=(3, 3), padding='same', return_sequences=True))\n",
        "\n",
        "# Add a batch normalization layer\n",
        "model.add(BatchNormalization())\n",
        "\n",
        "# Add another ConvLSTM layer\n",
        "model.add(ConvLSTM2D(filters=96, kernel_size=(3, 3), padding='same', return_sequences=True))\n",
        "\n",
        "# Add a batch normalization layer\n",
        "model.add(BatchNormalization())\n",
        "\n",
        "# Add a Conv3D layer to generate the predicted next frame\n",
        "model.add(Conv3D(filters=1, kernel_size=(3, 3, 3), activation='sigmoid', padding='same', data_format='channels_last'))\n",
        "\n",
        "# Compile the model\n",
        "model.compile(loss='mean_squared_error', optimizer='adam')\n",
        "\n",
        "model.summary()"
      ],
      "metadata": {
        "colab": {
          "base_uri": "https://localhost:8080/"
        },
        "id": "Mv91sqGBC0ZZ",
        "outputId": "0e150e48-bb8f-4eb0-f3e7-38be743b23f8"
      },
      "execution_count": 63,
      "outputs": [
        {
          "output_type": "stream",
          "name": "stdout",
          "text": [
            "Model: \"sequential_6\"\n",
            "_________________________________________________________________\n",
            " Layer (type)                Output Shape              Param #   \n",
            "=================================================================\n",
            " conv_lstm2d_18 (ConvLSTM2D)  (None, 3, 156, 274, 96)  335616    \n",
            "                                                                 \n",
            " batch_normalization_18 (Bat  (None, 3, 156, 274, 96)  384       \n",
            " chNormalization)                                                \n",
            "                                                                 \n",
            " conv_lstm2d_19 (ConvLSTM2D)  (None, 3, 156, 274, 96)  663936    \n",
            "                                                                 \n",
            " batch_normalization_19 (Bat  (None, 3, 156, 274, 96)  384       \n",
            " chNormalization)                                                \n",
            "                                                                 \n",
            " conv_lstm2d_20 (ConvLSTM2D)  (None, 3, 156, 274, 96)  663936    \n",
            "                                                                 \n",
            " batch_normalization_20 (Bat  (None, 3, 156, 274, 96)  384       \n",
            " chNormalization)                                                \n",
            "                                                                 \n",
            " conv3d_6 (Conv3D)           (None, 3, 156, 274, 1)    2593      \n",
            "                                                                 \n",
            "=================================================================\n",
            "Total params: 1,667,233\n",
            "Trainable params: 1,666,657\n",
            "Non-trainable params: 576\n",
            "_________________________________________________________________\n"
          ]
        }
      ]
    },
    {
      "cell_type": "code",
      "source": [
        "def generate_targets(sequences):\n",
        "    # Remove the first frame from each sequence\n",
        "    targets = sequences[:, 1:, :, :, :]\n",
        "\n",
        "    # Remove the last frame from each sequence\n",
        "    sequences = sequences[:, :-1, :, :, :]\n",
        "\n",
        "    return sequences, targets\n",
        "\n",
        "sequences, targets = generate_targets(sequences)\n"
      ],
      "metadata": {
        "id": "5mFvK3hRFAd6"
      },
      "execution_count": 64,
      "outputs": []
    },
    {
      "cell_type": "code",
      "source": [
        "split_idx = 15\n",
        "\n",
        "sequences_train = sequences[:split_idx]\n",
        "sequences_val = sequences[split_idx:split_idx+5]\n",
        "targets_train = targets[:split_idx]\n",
        "targets_val = targets[split_idx:split_idx+5]\n"
      ],
      "metadata": {
        "id": "OrPu-9aZFR6Y"
      },
      "execution_count": 65,
      "outputs": []
    },
    {
      "cell_type": "code",
      "source": [
        "# Assuming 'model' is your ConvLSTM2D model\n",
        "\n",
        "# Train the model\n",
        "history = model.fit(\n",
        "    sequences_train,\n",
        "    targets_train,\n",
        "    validation_data=(sequences_val, targets_val),\n",
        "    batch_size=2,\n",
        "    epochs=100\n",
        ")\n"
      ],
      "metadata": {
        "colab": {
          "base_uri": "https://localhost:8080/"
        },
        "id": "l8LtlZbnFUrA",
        "outputId": "d2a126e1-1715-4212-f026-afde8184f375"
      },
      "execution_count": 66,
      "outputs": [
        {
          "output_type": "stream",
          "name": "stdout",
          "text": [
            "Epoch 1/100\n",
            "8/8 [==============================] - 15s 440ms/step - loss: 0.0810 - val_loss: 0.2405\n",
            "Epoch 2/100\n",
            "8/8 [==============================] - 2s 238ms/step - loss: 4.3216e-04 - val_loss: 0.2528\n",
            "Epoch 3/100\n",
            "8/8 [==============================] - 2s 251ms/step - loss: 3.7984e-04 - val_loss: 0.2557\n",
            "Epoch 4/100\n",
            "8/8 [==============================] - 2s 277ms/step - loss: 3.7490e-04 - val_loss: 0.2511\n",
            "Epoch 5/100\n",
            "8/8 [==============================] - 2s 261ms/step - loss: 3.5958e-04 - val_loss: 0.2422\n",
            "Epoch 6/100\n",
            "8/8 [==============================] - 2s 237ms/step - loss: 3.1380e-04 - val_loss: 0.2315\n",
            "Epoch 7/100\n",
            "8/8 [==============================] - 2s 246ms/step - loss: 3.0250e-04 - val_loss: 0.2214\n",
            "Epoch 8/100\n",
            "8/8 [==============================] - 2s 246ms/step - loss: 2.9142e-04 - val_loss: 0.2122\n",
            "Epoch 9/100\n",
            "8/8 [==============================] - 2s 247ms/step - loss: 2.6453e-04 - val_loss: 0.2046\n",
            "Epoch 10/100\n",
            "8/8 [==============================] - 2s 236ms/step - loss: 1.9690e-04 - val_loss: 0.1998\n",
            "Epoch 11/100\n",
            "8/8 [==============================] - 2s 269ms/step - loss: 1.8739e-04 - val_loss: 0.1959\n",
            "Epoch 12/100\n",
            "8/8 [==============================] - 2s 263ms/step - loss: 1.8435e-04 - val_loss: 0.1932\n",
            "Epoch 13/100\n",
            "8/8 [==============================] - 2s 241ms/step - loss: 1.7640e-04 - val_loss: 0.1918\n",
            "Epoch 14/100\n",
            "8/8 [==============================] - 2s 237ms/step - loss: 1.6976e-04 - val_loss: 0.1918\n",
            "Epoch 15/100\n",
            "8/8 [==============================] - 2s 238ms/step - loss: 1.6820e-04 - val_loss: 0.1924\n",
            "Epoch 16/100\n",
            "8/8 [==============================] - 2s 238ms/step - loss: 1.6574e-04 - val_loss: 0.1942\n",
            "Epoch 17/100\n",
            "8/8 [==============================] - 2s 239ms/step - loss: 1.6541e-04 - val_loss: 0.1957\n",
            "Epoch 18/100\n",
            "8/8 [==============================] - 2s 265ms/step - loss: 1.6790e-04 - val_loss: 0.1984\n",
            "Epoch 19/100\n",
            "8/8 [==============================] - 2s 273ms/step - loss: 1.5997e-04 - val_loss: 0.2008\n",
            "Epoch 20/100\n",
            "8/8 [==============================] - 2s 240ms/step - loss: 1.4439e-04 - val_loss: 0.2029\n",
            "Epoch 21/100\n",
            "8/8 [==============================] - 2s 247ms/step - loss: 1.1177e-04 - val_loss: 0.2048\n",
            "Epoch 22/100\n",
            "8/8 [==============================] - 2s 246ms/step - loss: 9.1025e-05 - val_loss: 0.2029\n",
            "Epoch 23/100\n",
            "8/8 [==============================] - 2s 246ms/step - loss: 7.0814e-05 - val_loss: 0.2038\n",
            "Epoch 24/100\n",
            "8/8 [==============================] - 2s 246ms/step - loss: 5.2927e-05 - val_loss: 0.2055\n",
            "Epoch 25/100\n",
            "8/8 [==============================] - 2s 261ms/step - loss: 4.4015e-05 - val_loss: 0.2063\n",
            "Epoch 26/100\n",
            "8/8 [==============================] - 2s 270ms/step - loss: 5.2860e-05 - val_loss: 0.2081\n",
            "Epoch 27/100\n",
            "8/8 [==============================] - 2s 251ms/step - loss: 5.3284e-05 - val_loss: 0.2107\n",
            "Epoch 28/100\n",
            "8/8 [==============================] - 2s 247ms/step - loss: 5.0734e-05 - val_loss: 0.2144\n",
            "Epoch 29/100\n",
            "8/8 [==============================] - 2s 238ms/step - loss: 4.8627e-05 - val_loss: 0.2153\n",
            "Epoch 30/100\n",
            "8/8 [==============================] - 2s 238ms/step - loss: 4.4654e-05 - val_loss: 0.2185\n",
            "Epoch 31/100\n",
            "8/8 [==============================] - 2s 239ms/step - loss: 3.9140e-05 - val_loss: 0.2198\n",
            "Epoch 32/100\n",
            "8/8 [==============================] - 2s 267ms/step - loss: 3.7312e-05 - val_loss: 0.2212\n",
            "Epoch 33/100\n",
            "8/8 [==============================] - 2s 269ms/step - loss: 3.7867e-05 - val_loss: 0.2239\n",
            "Epoch 34/100\n",
            "8/8 [==============================] - 2s 239ms/step - loss: 3.8254e-05 - val_loss: 0.2249\n",
            "Epoch 35/100\n",
            "8/8 [==============================] - 2s 240ms/step - loss: 3.5352e-05 - val_loss: 0.2267\n",
            "Epoch 36/100\n",
            "8/8 [==============================] - 2s 239ms/step - loss: 3.3683e-05 - val_loss: 0.2269\n",
            "Epoch 37/100\n",
            "8/8 [==============================] - 2s 239ms/step - loss: 3.5100e-05 - val_loss: 0.2268\n",
            "Epoch 38/100\n",
            "8/8 [==============================] - 2s 269ms/step - loss: 3.9455e-05 - val_loss: 0.2262\n",
            "Epoch 39/100\n",
            "8/8 [==============================] - 2s 258ms/step - loss: 3.4390e-05 - val_loss: 0.2249\n",
            "Epoch 40/100\n",
            "8/8 [==============================] - 2s 260ms/step - loss: 3.6872e-05 - val_loss: 0.2194\n",
            "Epoch 41/100\n",
            "8/8 [==============================] - 2s 244ms/step - loss: 3.2335e-05 - val_loss: 0.2117\n",
            "Epoch 42/100\n",
            "8/8 [==============================] - 2s 240ms/step - loss: 3.3095e-05 - val_loss: 0.2031\n",
            "Epoch 43/100\n",
            "8/8 [==============================] - 2s 239ms/step - loss: 3.1584e-05 - val_loss: 0.1916\n",
            "Epoch 44/100\n",
            "8/8 [==============================] - 2s 239ms/step - loss: 3.1697e-05 - val_loss: 0.1758\n",
            "Epoch 45/100\n",
            "8/8 [==============================] - 2s 238ms/step - loss: 2.9819e-05 - val_loss: 0.1573\n",
            "Epoch 46/100\n",
            "8/8 [==============================] - 2s 252ms/step - loss: 2.8728e-05 - val_loss: 0.1361\n",
            "Epoch 47/100\n",
            "8/8 [==============================] - 2s 270ms/step - loss: 3.4714e-05 - val_loss: 0.1123\n",
            "Epoch 48/100\n",
            "8/8 [==============================] - 2s 248ms/step - loss: 2.9209e-05 - val_loss: 0.0863\n",
            "Epoch 49/100\n",
            "8/8 [==============================] - 2s 237ms/step - loss: 3.0559e-05 - val_loss: 0.0661\n",
            "Epoch 50/100\n",
            "8/8 [==============================] - 2s 239ms/step - loss: 3.2444e-05 - val_loss: 0.0445\n",
            "Epoch 51/100\n",
            "8/8 [==============================] - 2s 239ms/step - loss: 3.2470e-05 - val_loss: 0.0293\n",
            "Epoch 52/100\n",
            "8/8 [==============================] - 2s 237ms/step - loss: 3.7207e-05 - val_loss: 0.0153\n",
            "Epoch 53/100\n",
            "8/8 [==============================] - 2s 255ms/step - loss: 3.0953e-05 - val_loss: 0.0083\n",
            "Epoch 54/100\n",
            "8/8 [==============================] - 2s 263ms/step - loss: 2.7698e-05 - val_loss: 0.0043\n",
            "Epoch 55/100\n",
            "8/8 [==============================] - 3s 350ms/step - loss: 3.7462e-05 - val_loss: 0.0024\n",
            "Epoch 56/100\n",
            "8/8 [==============================] - 2s 238ms/step - loss: 4.2947e-05 - val_loss: 0.0015\n",
            "Epoch 57/100\n",
            "8/8 [==============================] - 2s 238ms/step - loss: 3.3356e-05 - val_loss: 0.0012\n",
            "Epoch 58/100\n",
            "8/8 [==============================] - 2s 248ms/step - loss: 3.0415e-05 - val_loss: 0.0010\n",
            "Epoch 59/100\n",
            "8/8 [==============================] - 2s 239ms/step - loss: 3.0398e-05 - val_loss: 9.3744e-04\n",
            "Epoch 60/100\n",
            "8/8 [==============================] - 2s 262ms/step - loss: 2.6292e-05 - val_loss: 8.9760e-04\n",
            "Epoch 61/100\n",
            "8/8 [==============================] - 2s 274ms/step - loss: 2.6432e-05 - val_loss: 8.7575e-04\n",
            "Epoch 62/100\n",
            "8/8 [==============================] - 2s 245ms/step - loss: 2.7852e-05 - val_loss: 8.6697e-04\n",
            "Epoch 63/100\n",
            "8/8 [==============================] - 2s 248ms/step - loss: 2.4420e-05 - val_loss: 8.6314e-04\n",
            "Epoch 64/100\n",
            "8/8 [==============================] - 2s 240ms/step - loss: 2.2865e-05 - val_loss: 8.6134e-04\n",
            "Epoch 65/100\n",
            "8/8 [==============================] - 2s 238ms/step - loss: 2.3350e-05 - val_loss: 8.6073e-04\n",
            "Epoch 66/100\n",
            "8/8 [==============================] - 2s 238ms/step - loss: 2.3716e-05 - val_loss: 8.5968e-04\n",
            "Epoch 67/100\n",
            "8/8 [==============================] - 2s 239ms/step - loss: 2.9237e-05 - val_loss: 8.5818e-04\n",
            "Epoch 68/100\n",
            "8/8 [==============================] - 2s 281ms/step - loss: 2.8181e-05 - val_loss: 8.5648e-04\n",
            "Epoch 69/100\n",
            "8/8 [==============================] - 2s 262ms/step - loss: 2.3488e-05 - val_loss: 8.5040e-04\n",
            "Epoch 70/100\n",
            "8/8 [==============================] - 2s 246ms/step - loss: 2.2998e-05 - val_loss: 8.4752e-04\n",
            "Epoch 71/100\n",
            "8/8 [==============================] - 2s 239ms/step - loss: 2.3953e-05 - val_loss: 8.4348e-04\n",
            "Epoch 72/100\n",
            "8/8 [==============================] - 2s 239ms/step - loss: 2.3154e-05 - val_loss: 8.3177e-04\n",
            "Epoch 73/100\n",
            "8/8 [==============================] - 2s 248ms/step - loss: 3.0535e-05 - val_loss: 8.2826e-04\n",
            "Epoch 74/100\n",
            "8/8 [==============================] - 2s 236ms/step - loss: 2.7376e-05 - val_loss: 8.1299e-04\n",
            "Epoch 75/100\n",
            "8/8 [==============================] - 2s 269ms/step - loss: 2.5460e-05 - val_loss: 8.0540e-04\n",
            "Epoch 76/100\n",
            "8/8 [==============================] - 2s 260ms/step - loss: 2.1592e-05 - val_loss: 7.8030e-04\n",
            "Epoch 77/100\n",
            "8/8 [==============================] - 2s 241ms/step - loss: 2.3696e-05 - val_loss: 7.7221e-04\n",
            "Epoch 78/100\n",
            "8/8 [==============================] - 2s 246ms/step - loss: 2.3462e-05 - val_loss: 7.5921e-04\n",
            "Epoch 79/100\n",
            "8/8 [==============================] - 2s 238ms/step - loss: 2.2618e-05 - val_loss: 7.2785e-04\n",
            "Epoch 80/100\n",
            "8/8 [==============================] - 2s 238ms/step - loss: 2.2455e-05 - val_loss: 7.0486e-04\n",
            "Epoch 81/100\n",
            "8/8 [==============================] - 2s 238ms/step - loss: 2.1166e-05 - val_loss: 6.7522e-04\n",
            "Epoch 82/100\n",
            "8/8 [==============================] - 2s 268ms/step - loss: 1.9673e-05 - val_loss: 6.4378e-04\n",
            "Epoch 83/100\n",
            "8/8 [==============================] - 2s 259ms/step - loss: 2.2200e-05 - val_loss: 6.2034e-04\n",
            "Epoch 84/100\n",
            "8/8 [==============================] - 2s 250ms/step - loss: 2.0079e-05 - val_loss: 5.7104e-04\n",
            "Epoch 85/100\n",
            "8/8 [==============================] - 2s 238ms/step - loss: 2.5681e-05 - val_loss: 5.5364e-04\n",
            "Epoch 86/100\n",
            "8/8 [==============================] - 2s 238ms/step - loss: 2.2412e-05 - val_loss: 5.0030e-04\n",
            "Epoch 87/100\n",
            "8/8 [==============================] - 2s 250ms/step - loss: 2.3956e-05 - val_loss: 4.9734e-04\n",
            "Epoch 88/100\n",
            "8/8 [==============================] - 2s 238ms/step - loss: 2.1529e-05 - val_loss: 4.4751e-04\n",
            "Epoch 89/100\n",
            "8/8 [==============================] - 2s 253ms/step - loss: 2.1202e-05 - val_loss: 4.4342e-04\n",
            "Epoch 90/100\n",
            "8/8 [==============================] - 2s 271ms/step - loss: 1.9160e-05 - val_loss: 3.6092e-04\n",
            "Epoch 91/100\n",
            "8/8 [==============================] - 2s 244ms/step - loss: 2.0096e-05 - val_loss: 3.3826e-04\n",
            "Epoch 92/100\n",
            "8/8 [==============================] - 2s 238ms/step - loss: 2.3201e-05 - val_loss: 3.1971e-04\n",
            "Epoch 93/100\n",
            "8/8 [==============================] - 2s 237ms/step - loss: 2.1954e-05 - val_loss: 2.8514e-04\n",
            "Epoch 94/100\n",
            "8/8 [==============================] - 2s 248ms/step - loss: 2.1122e-05 - val_loss: 2.6828e-04\n",
            "Epoch 95/100\n",
            "8/8 [==============================] - 2s 238ms/step - loss: 1.8545e-05 - val_loss: 2.8495e-04\n",
            "Epoch 96/100\n",
            "8/8 [==============================] - 2s 243ms/step - loss: 1.8338e-05 - val_loss: 2.5185e-04\n",
            "Epoch 97/100\n",
            "8/8 [==============================] - 2s 271ms/step - loss: 2.1606e-05 - val_loss: 2.2716e-04\n",
            "Epoch 98/100\n",
            "8/8 [==============================] - 2s 258ms/step - loss: 2.0633e-05 - val_loss: 2.0074e-04\n",
            "Epoch 99/100\n",
            "8/8 [==============================] - 2s 240ms/step - loss: 1.9308e-05 - val_loss: 1.5964e-04\n",
            "Epoch 100/100\n",
            "8/8 [==============================] - 2s 238ms/step - loss: 2.4060e-05 - val_loss: 1.7921e-04\n"
          ]
        }
      ]
    },
    {
      "cell_type": "code",
      "source": [
        "model.save(\"/content/drive/MyDrive/LSTM_MODEL/params/SHANGHAI/batch2_model.h5\")"
      ],
      "metadata": {
        "id": "7FPZaKRWG6Zg"
      },
      "execution_count": 29,
      "outputs": []
    },
    {
      "cell_type": "code",
      "source": [
        "from tensorflow.keras.models import load_model\n",
        "\n",
        "# Load the model\n",
        "model = load_model('/content/drive/MyDrive/LSTM_MODEL/HANGZHOU/layers_model.h5')\n"
      ],
      "metadata": {
        "id": "H2mqWXAlLSwR"
      },
      "execution_count": null,
      "outputs": []
    },
    {
      "cell_type": "code",
      "source": [
        "# Load and prepare your image sequence\n",
        "folder = \"/content/drive/MyDrive/LSTM_TEST/HAERBING\"\n",
        "predicted_sequences = load_image_sequences(folder, 3)  # assuming you're using the function defined earlier\n",
        "print(predicted_sequences.shape)\n",
        "model_output = model.predict(predicted_sequences)\n",
        "\n",
        "\n",
        "\n",
        "\n"
      ],
      "metadata": {
        "colab": {
          "base_uri": "https://localhost:8080/"
        },
        "id": "8C9zk-I8HUp7",
        "outputId": "7e8419df-defe-4984-e002-3f1281604f31"
      },
      "execution_count": 67,
      "outputs": [
        {
          "output_type": "stream",
          "name": "stdout",
          "text": [
            "(1, 3, 156, 274, 1)\n"
          ]
        },
        {
          "output_type": "stream",
          "name": "stderr",
          "text": [
            "WARNING:tensorflow:6 out of the last 7 calls to <function Model.make_predict_function.<locals>.predict_function at 0x7b03aa4a5ea0> triggered tf.function retracing. Tracing is expensive and the excessive number of tracings could be due to (1) creating @tf.function repeatedly in a loop, (2) passing tensors with different shapes, (3) passing Python objects instead of tensors. For (1), please define your @tf.function outside of the loop. For (2), @tf.function has reduce_retracing=True option that can avoid unnecessary retracing. For (3), please refer to https://www.tensorflow.org/guide/function#controlling_retracing and https://www.tensorflow.org/api_docs/python/tf/function for  more details.\n"
          ]
        },
        {
          "output_type": "stream",
          "name": "stdout",
          "text": [
            "1/1 [==============================] - 1s 877ms/step\n"
          ]
        }
      ]
    },
    {
      "cell_type": "code",
      "source": [
        "import matplotlib.pyplot as plt\n",
        "vis = model_output[0]\n",
        "plt.imshow(vis[0, :, :, 0], cmap='gray')\n",
        "plt.show()"
      ],
      "metadata": {
        "colab": {
          "base_uri": "https://localhost:8080/",
          "height": 347
        },
        "id": "U_TFISm2Y9ff",
        "outputId": "86e1ac18-821f-4244-b6b7-1724f963c140"
      },
      "execution_count": 68,
      "outputs": [
        {
          "output_type": "display_data",
          "data": {
            "text/plain": [
              "<Figure size 640x480 with 1 Axes>"
            ],
            "image/png": "[encoded data removed]"
          },
          "metadata": {}
        }
      ]
    }
  ]
}